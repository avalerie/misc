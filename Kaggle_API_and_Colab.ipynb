{
  "nbformat": 4,
  "nbformat_minor": 0,
  "metadata": {
    "colab": {
      "name": "Kaggle API and Colab.ipynb",
      "version": "0.3.2",
      "provenance": [],
      "collapsed_sections": [],
      "toc_visible": true,
      "include_colab_link": true
    },
    "kernelspec": {
      "display_name": "Python 3",
      "language": "python",
      "name": "python3"
    }
  },
  "cells": [
    {
      "cell_type": "markdown",
      "metadata": {
        "id": "view-in-github",
        "colab_type": "text"
      },
      "source": [
        "[View in Colaboratory](https://colab.research.google.com/github/avalerie/misc/blob/master/Kaggle_API_and_Colab.ipynb)"
      ]
    },
    {
      "metadata": {
        "id": "BTegNiGQKt_-",
        "colab_type": "code",
        "colab": {}
      },
      "cell_type": "code",
      "source": [
        "# mount GD on virtual machine\n",
        "from google.colab import drive\n",
        "drive.mount(\"/content/gdrive/\")"
      ],
      "execution_count": 0,
      "outputs": []
    },
    {
      "metadata": {
        "id": "EtAmVM3tcwmH",
        "colab_type": "code",
        "colab": {}
      },
      "cell_type": "code",
      "source": [
        "# install the Kaggle API client\n",
        "!pip install kaggle"
      ],
      "execution_count": 0,
      "outputs": []
    },
    {
      "metadata": {
        "id": "RAx0NOaeQxQV",
        "colab_type": "code",
        "colab": {}
      },
      "cell_type": "code",
      "source": [
        "# Kaggle API client expects this file to be in ~/.kaggle\n",
        "# create a new directory /.kaggle\n",
        "!mkdir -p ~/.kaggle\n",
        "# move kaggle.json from GD to /.kaggle\n",
        "!cp '/content/gdrive/My Drive/kaggle.json' ~/.kaggle/\n",
        "# permissions change to avoid a warning on Kaggle tool startup\n",
        "!chmod 600 ~/.kaggle/kaggle.json"
      ],
      "execution_count": 0,
      "outputs": []
    },
    {
      "metadata": {
        "id": "ghIGOFc_RF95",
        "colab_type": "code",
        "colab": {}
      },
      "cell_type": "code",
      "source": [
        "# list available datasets\n",
        "!kaggle datasets list\n",
        "# dowload dataset \n",
        "!kaggle datasets download -d <dataset_name>"
      ],
      "execution_count": 0,
      "outputs": []
    }
  ]
}