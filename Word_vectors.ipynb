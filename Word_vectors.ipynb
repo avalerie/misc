{
  "nbformat": 4,
  "nbformat_minor": 0,
  "metadata": {
    "colab": {
      "name": "Copy of Word vectors.ipynb",
      "version": "0.3.2",
      "provenance": [],
      "toc_visible": true,
      "include_colab_link": true
    },
    "kernelspec": {
      "name": "python3",
      "display_name": "Python 3"
    }
  },
  "cells": [
    {
      "cell_type": "markdown",
      "metadata": {
        "id": "view-in-github",
        "colab_type": "text"
      },
      "source": [
        "[View in Colaboratory](https://colab.research.google.com/github/avalerie/misc/blob/master/Word_vectors.ipynb)"
      ]
    },
    {
      "metadata": {
        "id": "to13AiYUsTq6",
        "colab_type": "code",
        "colab": {}
      },
      "cell_type": "code",
      "source": [
        "import pandas as pd\n",
        "import numpy as np\n",
        "import csv"
      ],
      "execution_count": 0,
      "outputs": []
    },
    {
      "metadata": {
        "colab_type": "text",
        "id": "TtgTPZUXH-7O"
      },
      "cell_type": "markdown",
      "source": [
        "Download Glove pre-trained word-vectors (glove.6B.50d.txt) and save on Google Colab. \n",
        "\n",
        "There are [various methods](https://colab.research.google.com/notebooks/io.ipynb) of loading data into Colab.\n",
        "\n",
        "1.   From local drive. The file is stored in Colab session space and removed with the session end. Files can be viewed in menu \"Files\".  To operate files, use the commands:\n",
        "\n",
        "> > `!rm file_name # to remove file` \\\n",
        "> > `!mv file_name_A file_name_B # to rename file_A to file_B` "
      ]
    },
    {
      "metadata": {
        "id": "DboPqSzTnkhy",
        "colab_type": "code",
        "colab": {}
      },
      "cell_type": "code",
      "source": [
        "# 1. Upload files from local drive to Google Drive. \n",
        "# this function allows to select files and will display the progress bar % while uploding files\n",
        "from google.colab import files\n",
        "uploaded = files.upload() "
      ],
      "execution_count": 0,
      "outputs": []
    },
    {
      "metadata": {
        "id": "gdkqr0ZjN356",
        "colab_type": "text"
      },
      "cell_type": "markdown",
      "source": [
        "2.   From Google Drive. To view the files, we need to mount GD on virtual mashine. "
      ]
    },
    {
      "metadata": {
        "id": "IvYWI9VrOS4r",
        "colab_type": "code",
        "colab": {}
      },
      "cell_type": "code",
      "source": [
        "# 2. Mount Google Drive locally\n",
        "from google.colab import drive\n",
        "drive.mount(\"/content/gdrive/\")"
      ],
      "execution_count": 0,
      "outputs": []
    },
    {
      "metadata": {
        "id": "DrDifToB1ayn",
        "colab_type": "text"
      },
      "cell_type": "markdown",
      "source": [
        "2. The Glove txt file containes 50-dimentional vectors of 6B tokens (400K vocab, uncased). Convert Glove txt file into pandas dataframe of shape (400000,50)."
      ]
    },
    {
      "metadata": {
        "id": "mfLEvq0rpQiA",
        "colab_type": "code",
        "colab": {}
      },
      "cell_type": "code",
      "source": [
        "word_vec= pd.read_table('glove.6B.50d.txt', sep=\" \", index_col=0, header=None, quoting=csv.QUOTE_NONE)"
      ],
      "execution_count": 0,
      "outputs": []
    },
    {
      "metadata": {
        "id": "qBVOo-Wi2Fph",
        "colab_type": "code",
        "colab": {}
      },
      "cell_type": "code",
      "source": [
        "# check the shape of word vectors\n",
        "word_vec.shape[0]==400000"
      ],
      "execution_count": 0,
      "outputs": []
    },
    {
      "metadata": {
        "id": "bpYR6SneK9TH",
        "colab_type": "text"
      },
      "cell_type": "markdown",
      "source": [
        "###  Cosine similarity\n",
        "\n",
        "Cosine similarity reflects the degree of similariy between vectors.\n",
        "\n",
        "$$\\text{Cosine_Similarity(u, v)} = \\frac {u . v} {||u||_2 ||v||_2} = cos(\\theta) $$\n",
        "\n",
        "where $u.v$ is the dot product (or inner product) of two vectors, $||u||_2$ is the norm (or length) of the vector $u$, and $\\theta$ is the angle between $u$ and $v$. This similarity depends on the angle between $u$ and $v$. If $u$ and $v$ are very similar, their cosine similarity will be close to 1; if they are dissimilar, the cosine similarity will take a smaller value. \n",
        "\n",
        "The norm of $u$ is defined as:\n",
        "\n",
        "$$ ||u||_2 = \\sqrt{\\sum_{i=1}^{n} u_i^2}$$\n"
      ]
    },
    {
      "metadata": {
        "id": "zhN6tIJHKF9S",
        "colab_type": "code",
        "colab": {}
      },
      "cell_type": "code",
      "source": [
        "def cosine_similarity(u, v):\n",
        "    \"\"\"\n",
        "    Cosine similarity reflects the degree of similariy between u and v\n",
        "        \n",
        "    Arguments:\n",
        "        u -- a word vector of shape (n,)          \n",
        "        v -- a word vector of shape (n,)\n",
        "\n",
        "    Returns:\n",
        "        cosine_similarity -- the cosine similarity between u and v defined by the formula above.\n",
        "    \"\"\"\n",
        "    \n",
        "    distance = 0.0\n",
        "    \n",
        "    # Compute the dot product between u and v (≈1 line)\n",
        "    dot = np.dot(u,v)\n",
        "    # Compute the L2 norm of u (≈1 line)\n",
        "    norm_u = np.sqrt(np.sum(u**2))\n",
        "    \n",
        "    # Compute the L2 norm of v (≈1 line)\n",
        "    norm_v = np.sqrt(np.sum(v**2))\n",
        "    # Compute the cosine similarity defined by formula (1) (≈1 line)\n",
        "    cosine_similarity = dot/(norm_u*norm_v)\n",
        "    \n",
        "    return cosine_similarity"
      ],
      "execution_count": 0,
      "outputs": []
    },
    {
      "metadata": {
        "id": "rStiZqi3e6ds",
        "colab_type": "code",
        "colab": {}
      },
      "cell_type": "code",
      "source": [
        "father = word_to_vec_map[\"father\"]\n",
        "mother = word_to_vec_map[\"mother\"]\n",
        "print(\"cosine_similarity(father, mother) = \", cosine_similarity(father, mother))"
      ],
      "execution_count": 0,
      "outputs": []
    }
  ]
}